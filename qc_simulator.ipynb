{
 "metadata": {
  "language_info": {
   "codemirror_mode": {
    "name": "ipython",
    "version": 3
   },
   "file_extension": ".py",
   "mimetype": "text/x-python",
   "name": "python",
   "nbconvert_exporter": "python",
   "pygments_lexer": "ipython3",
   "version": "3.7.4-final"
  },
  "orig_nbformat": 2,
  "kernelspec": {
   "name": "python3",
   "display_name": "Python 3",
   "language": "python"
  }
 },
 "nbformat": 4,
 "nbformat_minor": 2,
 "cells": [
  {
   "cell_type": "code",
   "execution_count": 47,
   "metadata": {},
   "outputs": [],
   "source": [
    "import numpy as np\n",
    "from numpy.random import choice"
   ]
  },
  {
   "source": [
    "initialize state\n",
    "\n",
    "read program, and for each gate:\n",
    "\n",
    "    calculate matrix operator\n",
    "    \n",
    "    apply operator (modify state)\n",
    "\n",
    "perform multi-shot measurement of all qubits using weighted random technique"
   ],
   "cell_type": "markdown",
   "metadata": {}
  },
  {
   "cell_type": "code",
   "execution_count": 10,
   "metadata": {},
   "outputs": [],
   "source": [
    "single_q_gates = {'x':np.array([[0, 1], [1, 0]]),\n",
    "                  'h':np.array([[1/np.sqrt(2), 1/np.sqrt(2)], [1/np.sqrt(2), -1/np.sqrt(2)]])}\n",
    "I = np.identity(2)\n",
    "CX = np.array([[1, 0, 0, 0], [0, 1, 0, 0], [0, 0, 0, 1], [0, 0, 1, 0]])\n",
    "SWAP = [[1, 0, 0, 0], [0, 0, 1, 0], [0, 1, 0, 0], [0, 0, 0, 1]]"
   ]
  },
  {
   "cell_type": "code",
   "execution_count": 2,
   "metadata": {},
   "outputs": [],
   "source": [
    "def get_ground_state(num_qubits):\n",
    "    psi = np.zeros_like(np.arange(2**num_qubits))\n",
    "    psi[0] = 1\n",
    "    return psi"
   ]
  },
  {
   "cell_type": "code",
   "execution_count": 24,
   "metadata": {},
   "outputs": [],
   "source": [
    "def get_operator(total_qubits, gate_unitary, target_qubits):\n",
    "    if gate_unitary in single_q_gates:\n",
    "        if target_qubits[0] == 0:\n",
    "            operator = single_q_gates[gate_unitary]\n",
    "        else:\n",
    "            operator = np.identity(2)\n",
    "            for i in range(1, target_qubits[0]):\n",
    "                operator = np.kron(operator, I)\n",
    "            operator = np.kron(operator, single_q_gates[gate_unitary])\n",
    "        for i in range(total_qubits - target_qubits[0] - 1):\n",
    "            operator = np.kron(operator, I)\n",
    "        return operator"
   ]
  },
  {
   "cell_type": "code",
   "execution_count": 41,
   "metadata": {},
   "outputs": [],
   "source": [
    "def run_program(initial_state, program):\n",
    "    num_qubits = len(initial_state).bit_length()-1\n",
    "    state = initial_state\n",
    "    for operation in program:\n",
    "        gate, target = operation['gate'], operation['target']\n",
    "        operator = get_operator(num_qubits, gate, target)\n",
    "        state = np.dot(operator, state)\n",
    "    return state"
   ]
  },
  {
   "cell_type": "code",
   "execution_count": 95,
   "metadata": {},
   "outputs": [
    {
     "output_type": "stream",
     "name": "stdout",
     "text": [
      "[0.         0.         0.         0.         0.         0.\n 0.         0.         0.70710678 0.         0.         0.\n 0.70710678 0.         0.         0.        ]\n"
     ]
    }
   ],
   "source": [
    "my_circuit = [\n",
    "{ \"gate\": \"x\", \"target\": [0] },\n",
    "{ 'gate': 'h', 'target': [1] }\n",
    "]\n",
    "initial_state = get_ground_state(4)\n",
    "state = run_program(initial_state, my_circuit)\n",
    "print(state)"
   ]
  },
  {
   "cell_type": "code",
   "execution_count": 96,
   "metadata": {},
   "outputs": [],
   "source": [
    "def measure_all(state_vector):\n",
    "    return \"{0:b}\".format(choice(range(len(state_vector)), 1, p=np.square(state_vector))[0]).zfill(len(state_vector).bit_length()-1)"
   ]
  },
  {
   "cell_type": "code",
   "execution_count": 97,
   "metadata": {},
   "outputs": [],
   "source": [
    "def get_counts(state_vector, num_shots):\n",
    "    counts = {}\n",
    "    for i in range(num_shots):\n",
    "        measurement = measure_all(state_vector)\n",
    "        if measurement not in counts.keys():\n",
    "            counts[measurement] = 1\n",
    "        else:\n",
    "            counts[measurement] += 1 \n",
    "    return counts"
   ]
  },
  {
   "cell_type": "code",
   "execution_count": 98,
   "metadata": {},
   "outputs": [
    {
     "output_type": "stream",
     "name": "stdout",
     "text": [
      "{'1000': 496, '1100': 504}\n"
     ]
    }
   ],
   "source": [
    "print(get_counts(state, 1000))"
   ]
  }
 ]
}