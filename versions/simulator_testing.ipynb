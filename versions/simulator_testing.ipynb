{
 "metadata": {
  "language_info": {
   "codemirror_mode": {
    "name": "ipython",
    "version": 3
   },
   "file_extension": ".py",
   "mimetype": "text/x-python",
   "name": "python",
   "nbconvert_exporter": "python",
   "pygments_lexer": "ipython3",
   "version": "3.7.4-final"
  },
  "orig_nbformat": 2,
  "kernelspec": {
   "name": "python3",
   "display_name": "Python 3",
   "language": "python"
  }
 },
 "nbformat": 4,
 "nbformat_minor": 2,
 "cells": [
  {
   "source": [
    "## ROUGH TESTING FOR QUANTUM SIMULATOR"
   ],
   "cell_type": "markdown",
   "metadata": {}
  },
  {
   "cell_type": "code",
   "execution_count": 47,
   "metadata": {},
   "outputs": [],
   "source": [
    "import numpy as np\n",
    "from numpy.random import choice"
   ]
  },
  {
   "source": [
    "initialize state\n",
    "\n",
    "read program, and for each gate:\n",
    "\n",
    "    calculate matrix operator\n",
    "    \n",
    "    apply operator (modify state)\n",
    "\n",
    "perform multi-shot measurement of all qubits using weighted random technique"
   ],
   "cell_type": "markdown",
   "metadata": {}
  },
  {
   "cell_type": "code",
   "execution_count": 114,
   "metadata": {},
   "outputs": [],
   "source": [
    "single_q_gates = {'x':np.array([[0, 1], [1, 0]]),\n",
    "                  'h':np.array([[1/np.sqrt(2), 1/np.sqrt(2)], [1/np.sqrt(2), -1/np.sqrt(2)]])}\n",
    "multi_q_gates = {'cx':np.array([[0, 1], [1, 0]])}\n",
    "\n",
    "I = np.identity(2)\n",
    "P0X0 = np.array([[1, 0],[0, 0]])\n",
    "P1X1 = np.array([[0, 0],[0, 1]])"
   ]
  },
  {
   "cell_type": "code",
   "execution_count": 129,
   "metadata": {},
   "outputs": [
    {
     "output_type": "stream",
     "name": "stdout",
     "text": [
      "[0, 1, 1]\n"
     ]
    }
   ],
   "source": [
    "bin_i = [int(x) for x in bin(3)[2:].zfill(3)]\n",
    "print(bin_i)"
   ]
  },
  {
   "cell_type": "code",
   "execution_count": 115,
   "metadata": {},
   "outputs": [],
   "source": [
    "def get_ground_state(num_qubits):\n",
    "    psi = np.zeros_like(np.arange(2**num_qubits))\n",
    "    psi[0] = 1\n",
    "    return psi"
   ]
  },
  {
   "cell_type": "code",
   "execution_count": 116,
   "metadata": {},
   "outputs": [],
   "source": [
    "def get_operator(total_qubits, gate_unitary, target_qubits):\n",
    "    if gate_unitary in single_q_gates:\n",
    "        target = target_qubits[0]\n",
    "        operator = 1\n",
    "        for i in range(total_qubits):\n",
    "            if i == target_qubits[0]:\n",
    "                operator = np.kron(operator, single_q_gates[gate_unitary])\n",
    "            else:\n",
    "                operator = np.kron(operator, I)\n",
    "        return operator\n",
    "    elif gate_unitary in multi_q_gates:\n",
    "        control = target_qubits[0]\n",
    "        target = target_qubits[1]\n",
    "        operator_a = 1\n",
    "        operator_b = 1\n",
    "        for i in range(total_qubits):\n",
    "            if i == control:\n",
    "                operator_a = np.kron(operator_a, P0X0)\n",
    "                operator_b = np.kron(operator_b, P1X1)\n",
    "            elif i == target:\n",
    "                operator_a = np.kron(operator_a, I)\n",
    "                operator_b = np.kron(operator_b, multi_q_gates[gate_unitary])\n",
    "            else:\n",
    "                operator_a = np.kron(operator_a, I)\n",
    "                operator_b = np.kron(operator_b, I)\n",
    "        return operator_a + operator_b"
   ]
  },
  {
   "cell_type": "code",
   "execution_count": 117,
   "metadata": {},
   "outputs": [],
   "source": [
    "def run_program(initial_state, program):\n",
    "    num_qubits = len(initial_state).bit_length()-1\n",
    "    state = initial_state\n",
    "    for operation in program:\n",
    "        gate, target = operation['gate'], operation['target']\n",
    "        operator = get_operator(num_qubits, gate, target)\n",
    "        state = np.dot(operator, state)\n",
    "    return state"
   ]
  },
  {
   "cell_type": "code",
   "execution_count": 118,
   "metadata": {},
   "outputs": [
    {
     "output_type": "stream",
     "name": "stdout",
     "text": [
      "[0. 0. 0. 0. 0. 0. 0. 0. 0. 0. 1. 0. 0. 0. 0. 0.]\n"
     ]
    }
   ],
   "source": [
    "my_circuit = [\n",
    "{ \"gate\": \"x\", \"target\": [0] },\n",
    "{ 'gate': 'cx', 'target': [0,2] }\n",
    "]\n",
    "initial_state = get_ground_state(4)\n",
    "state = run_program(initial_state, my_circuit)\n",
    "print(state)"
   ]
  },
  {
   "cell_type": "code",
   "execution_count": 119,
   "metadata": {},
   "outputs": [],
   "source": [
    "def measure_all(state_vector):\n",
    "    return \"{0:b}\".format(choice(range(len(state_vector)), 1, p=np.square(state_vector))[0]).zfill(len(state_vector).bit_length()-1)"
   ]
  },
  {
   "cell_type": "code",
   "execution_count": 120,
   "metadata": {},
   "outputs": [],
   "source": [
    "def get_counts(state_vector, num_shots):\n",
    "    counts = {}\n",
    "    for i in range(num_shots):\n",
    "        measurement = measure_all(state_vector)\n",
    "        if measurement not in counts.keys():\n",
    "            counts[measurement] = 1\n",
    "        else:\n",
    "            counts[measurement] += 1 \n",
    "    return counts"
   ]
  },
  {
   "cell_type": "code",
   "execution_count": 121,
   "metadata": {},
   "outputs": [
    {
     "output_type": "stream",
     "name": "stdout",
     "text": [
      "{'1010': 1000}\n"
     ]
    }
   ],
   "source": [
    "print(get_counts(state, 1000))"
   ]
  },
  {
   "cell_type": "code",
   "execution_count": 126,
   "metadata": {},
   "outputs": [],
   "source": [
    "class var:\n",
    "    a = 5\n",
    "\n",
    "class test:\n",
    "    def __init__(self,b):\n",
    "        self.b = b\n",
    "    def m(self):\n",
    "        print(self.b*var.a)"
   ]
  },
  {
   "cell_type": "code",
   "execution_count": 127,
   "metadata": {},
   "outputs": [
    {
     "output_type": "stream",
     "name": "stdout",
     "text": [
      "20\n"
     ]
    }
   ],
   "source": [
    "A = test(4)\n",
    "A.m()"
   ]
  },
  {
   "cell_type": "code",
   "execution_count": null,
   "metadata": {},
   "outputs": [],
   "source": []
  }
 ]
}